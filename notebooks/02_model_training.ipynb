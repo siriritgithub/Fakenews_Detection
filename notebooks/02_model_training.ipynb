{
 "cells": [
  {
   "cell_type": "code",
   "execution_count": 5,
   "metadata": {},
   "outputs": [
    {
     "name": "stdout",
     "output_type": "stream",
     "text": [
      "📌 Logistic Regression (Balanced)\n",
      "Accuracy: 0.8009478672985783\n",
      "Classification Report:\n",
      "               precision    recall  f1-score   support\n",
      "\n",
      "           0       0.78      0.73      0.76        89\n",
      "           1       0.81      0.85      0.83       122\n",
      "\n",
      "    accuracy                           0.80       211\n",
      "   macro avg       0.80      0.79      0.79       211\n",
      "weighted avg       0.80      0.80      0.80       211\n",
      "\n",
      "============================================================\n",
      "📌 Naive Bayes\n",
      "Accuracy: 0.7582938388625592\n",
      "Classification Report:\n",
      "               precision    recall  f1-score   support\n",
      "\n",
      "           0       0.85      0.52      0.64        89\n",
      "           1       0.73      0.93      0.82       122\n",
      "\n",
      "    accuracy                           0.76       211\n",
      "   macro avg       0.79      0.73      0.73       211\n",
      "weighted avg       0.78      0.76      0.74       211\n",
      "\n"
     ]
    }
   ],
   "source": [
    "import pandas as pd\n",
    "from sklearn.feature_extraction.text import TfidfVectorizer\n",
    "from sklearn.model_selection import train_test_split\n",
    "from sklearn.linear_model import LogisticRegression\n",
    "from sklearn.naive_bayes import MultinomialNB\n",
    "from sklearn.metrics import classification_report, accuracy_score\n",
    "import joblib\n",
    "\n",
    "\n",
    "# Save model\n",
    "joblib.dump(log_model, r\"C:\\fake-news-detection\\models\\logistic_model.pkl\")\n",
    "\n",
    "# Save vectorizer (important for converting user input)\n",
    "joblib.dump(vectorizer, r\"C:\\fake-news-detection\\models\\tfidf_vectorizer.pkl\")\n",
    "\n",
    "# 📥 Load cleaned data\n",
    "df = pd.read_csv(r\"C:\\fake-news-detection\\data\\politifact_cleaned.csv\")\n",
    "\n",
    "# 🧹 Drop rows with missing clean titles\n",
    "df = df.dropna(subset=[\"clean_title\"])\n",
    "\n",
    "# 🔡 TF-IDF vectorization\n",
    "vectorizer = TfidfVectorizer(max_features=5000)\n",
    "X = vectorizer.fit_transform(df[\"clean_title\"])\n",
    "y = df[\"label\"]\n",
    "\n",
    "# ✂️ Train/Test split\n",
    "X_train, X_test, y_train, y_test = train_test_split(X, y, test_size=0.2, random_state=42)\n",
    "\n",
    "# 🚀 Logistic Regression with class balancing\n",
    "log_model = LogisticRegression(class_weight='balanced')\n",
    "log_model.fit(X_train, y_train)\n",
    "log_pred = log_model.predict(X_test)\n",
    "\n",
    "# 🧪 Evaluate Logistic Regression\n",
    "print(\"📌 Logistic Regression (Balanced)\")\n",
    "print(\"Accuracy:\", accuracy_score(y_test, log_pred))\n",
    "print(\"Classification Report:\\n\", classification_report(y_test, log_pred))\n",
    "\n",
    "print(\"=\"*60)\n",
    "\n",
    "# 🤖 Naive Bayes Model\n",
    "nb_model = MultinomialNB()\n",
    "nb_model.fit(X_train, y_train)\n",
    "nb_pred = nb_model.predict(X_test)\n",
    "\n",
    "# 🧪 Evaluate Naive Bayes\n",
    "print(\"📌 Naive Bayes\")\n",
    "print(\"Accuracy:\", accuracy_score(y_test, nb_pred))\n",
    "print(\"Classification Report:\\n\", classification_report(y_test, nb_pred))\n"
   ]
  }
 ],
 "metadata": {
  "kernelspec": {
   "display_name": "Python 3",
   "language": "python",
   "name": "python3"
  },
  "language_info": {
   "codemirror_mode": {
    "name": "ipython",
    "version": 3
   },
   "file_extension": ".py",
   "mimetype": "text/x-python",
   "name": "python",
   "nbconvert_exporter": "python",
   "pygments_lexer": "ipython3",
   "version": "3.12.4"
  }
 },
 "nbformat": 4,
 "nbformat_minor": 2
}
