{
 "cells": [
  {
   "cell_type": "code",
   "execution_count": 2,
   "metadata": {},
   "outputs": [
    {
     "name": "stdout",
     "output_type": "stream",
     "text": [
      "                                               title  \\\n",
      "0  BREAKING: First NFL Team Declares Bankruptcy O...   \n",
      "1  Court Orders Obama To Pay $400 Million In Rest...   \n",
      "2  UPDATE: Second Roy Moore Accuser Works For Mic...   \n",
      "3         Oscar Pistorius Attempts To Commit Suicide   \n",
      "4        Trump Votes For Death Penalty For Being Gay   \n",
      "\n",
      "                                         clean_title  label  \n",
      "0  breaking first nfl team declares bankruptcy ov...      0  \n",
      "1         court orders obama pay million restitution      0  \n",
      "2  update second roy moore accuser works michelle...      0  \n",
      "3            oscar pistorius attempts commit suicide      0  \n",
      "4                trump votes death penalty being gay      0  \n"
     ]
    }
   ],
   "source": [
    "import pandas as pd\n",
    "import re\n",
    "\n",
    "# Load your datasets\n",
    "fake = pd.read_csv(r\"C:\\fake-news-detection\\data\\politifact_fake.csv\")\n",
    "real = pd.read_csv(r\"C:\\fake-news-detection\\data\\politifact_real.csv\")\n",
    "\n",
    "# Add labels\n",
    "fake[\"label\"] = 0\n",
    "real[\"label\"] = 1\n",
    "\n",
    "# Combine the datasets\n",
    "df = pd.concat([fake, real], ignore_index=True)\n",
    "\n",
    "# Define basic stopwords\n",
    "stopwords = {\n",
    "    \"a\", \"an\", \"and\", \"are\", \"as\", \"at\", \"be\", \"but\", \"by\", \"for\",\n",
    "    \"if\", \"in\", \"into\", \"is\", \"it\", \"no\", \"not\", \"of\", \"on\", \"or\",\n",
    "    \"such\", \"that\", \"the\", \"their\", \"then\", \"there\", \"these\", \"they\",\n",
    "    \"this\", \"to\", \"was\", \"will\", \"with\", \"from\", \"has\", \"have\", \"had\",\n",
    "    \"he\", \"she\", \"we\", \"you\", \"i\", \"me\", \"my\", \"our\", \"your\", \"who\"\n",
    "}\n",
    "\n",
    "# Clean text function\n",
    "def clean_text(text):\n",
    "    text = text.lower()  # lowercase\n",
    "    text = re.sub(r'[^a-z\\s]', '', text)  # remove special characters/numbers\n",
    "    tokens = text.split()  # tokenize\n",
    "    tokens = [word for word in tokens if word not in stopwords]  # remove stopwords\n",
    "    return \" \".join(tokens)\n",
    "\n",
    "# Apply text cleaning to title column\n",
    "df[\"clean_title\"] = df[\"title\"].apply(clean_text)\n",
    "\n",
    "# Save cleaned data\n",
    "df.to_csv(r\"C:\\fake-news-detection\\data\\politifact_cleaned.csv\", index=False)\n",
    "\n",
    "# Show sample\n",
    "print(df[[\"title\", \"clean_title\", \"label\"]].head())\n"
   ]
  }
 ],
 "metadata": {
  "kernelspec": {
   "display_name": "Python 3",
   "language": "python",
   "name": "python3"
  },
  "language_info": {
   "codemirror_mode": {
    "name": "ipython",
    "version": 3
   },
   "file_extension": ".py",
   "mimetype": "text/x-python",
   "name": "python",
   "nbconvert_exporter": "python",
   "pygments_lexer": "ipython3",
   "version": "3.12.4"
  }
 },
 "nbformat": 4,
 "nbformat_minor": 2
}
